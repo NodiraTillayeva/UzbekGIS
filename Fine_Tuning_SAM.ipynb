{
  "nbformat": 4,
  "nbformat_minor": 0,
  "metadata": {
    "colab": {
      "provenance": [],
      "include_colab_link": true
    },
    "kernelspec": {
      "name": "python3",
      "display_name": "Python 3"
    },
    "language_info": {
      "name": "python"
    },
    "accelerator": "GPU",
    "gpuClass": "standard"
  },
  "cells": [
    {
      "cell_type": "markdown",
      "metadata": {
        "id": "view-in-github",
        "colab_type": "text"
      },
      "source": [
        "<a href=\"https://colab.research.google.com/github/NodiraTillayeva/ArcGis/blob/main/Fine_Tuning_SAM.ipynb\" target=\"_parent\"><img src=\"https://colab.research.google.com/assets/colab-badge.svg\" alt=\"Open In Colab\"/></a>"
      ]
    },
    {
      "cell_type": "markdown",
      "source": [
        "## Overview\n",
        "This tutorial has been prepared by Alex Bonnet, ML Solutions Engineer @ Encord - you might also be interested in checking out our open-source framework for computer vision model testing, evaluation, and validation that you can find here https://github.com/encord-team/encord-active).\n",
        "\n",
        "This is the notebook which implements the steps discussed in this blog post: https://encord.com/blog/learn-how-to-fine-tune-the-segment-anything-model-sam/\n",
        "\n",
        "The aim is to take Segment Anything Model and fine tune it to a specific application. We are going to be using the stamp verification dataset https://www.kaggle.com/datasets/rtatman/stamp-verification-staver-dataset since it has data SAM is unlikely to have seen (scans of invoices with stamps), has precise ground truth segmentation masks and also has bounding boxes which we can use as prompts to SAM."
      ],
      "metadata": {
        "id": "aiehQvBj5Crc"
      }
    },
    {
      "cell_type": "markdown",
      "source": [
        "## Set up"
      ],
      "metadata": {
        "id": "8xFZSDikKMsA"
      }
    },
    {
      "cell_type": "code",
      "execution_count": 1,
      "metadata": {
        "id": "r0oru8hAn6q2"
      },
      "outputs": [],
      "source": [
        "! pip install torch torchvision &> /dev/null\n",
        "! pip install opencv-python pycocotools matplotlib onnxruntime onnx &> /dev/null\n",
        "! pip install git+https://github.com/facebookresearch/segment-anything.git &> /dev/null\n",
        "! wget https://dl.fbaipublicfiles.com/segment_anything/sam_vit_b_01ec64.pth &> /dev/null"
      ]
    },
    {
      "cell_type": "code",
      "source": [
        "! unzip datasetPng.zip &> /dev/null"
      ],
      "metadata": {
        "id": "zJP-eL2_EA52"
      },
      "execution_count": 5,
      "outputs": []
    },
    {
      "cell_type": "code",
      "source": [
        "from pathlib import Path\n",
        "import numpy as np\n",
        "import matplotlib.pyplot as plt\n",
        "import cv2"
      ],
      "metadata": {
        "id": "lwmQm0C3n_3D"
      },
      "execution_count": 3,
      "outputs": []
    },
    {
      "cell_type": "markdown",
      "source": [
        "## Preprocess data"
      ],
      "metadata": {
        "id": "WNJGn1BsKUMS"
      }
    },
    {
      "cell_type": "markdown",
      "source": [
        "We extract the bounding box coordinates which will be used to feed into SAM as prompts."
      ],
      "metadata": {
        "id": "KhXGI8HXyIFi"
      }
    },
    {
      "cell_type": "code",
      "source": [
        "bbox_coords = {}\n",
        "for f in sorted(Path('datasetPng/ground-truth-maps/ground-truth-maps/').iterdir())[:50]:\n",
        "  k = f.stem\n",
        "  im = cv2.imread(f.as_posix())\n",
        "  gray=cv2.cvtColor(im,cv2.COLOR_BGR2GRAY)\n",
        "  contours, hierarchy = cv2.findContours(gray,cv2.RETR_LIST,cv2.CHAIN_APPROX_SIMPLE)[-2:]\n",
        "  if len(contours) > 1:\n",
        "    x,y,w,h = cv2.boundingRect(contours[0])\n",
        "    height, width, _ = im.shape\n",
        "    bbox_coords[k] = np.array([x, y, x + w, y + h])\n",
        "print(bbox_coords)"
      ],
      "metadata": {
        "id": "PNrV8CN8F9G0",
        "colab": {
          "base_uri": "https://localhost:8080/"
        },
        "outputId": "20bfce18-313f-4a76-d87e-92ef7d19c3fc"
      },
      "execution_count": 6,
      "outputs": [
        {
          "output_type": "stream",
          "name": "stdout",
          "text": [
            "{'000000000000': array([241,   0, 256,  68]), '000000000001': array([  0, 221,   9, 256]), '000000000003': array([169, 204, 256, 256]), '000000000004': array([  0, 230,   7, 256]), '000000000005': array([233, 239, 243, 256]), '000000000006': array([112, 170, 252, 241]), '000000000007': array([202, 169, 256, 211]), '000000000008': array([240, 192, 256, 216]), '000000000010': array([ 85, 216, 129, 256]), '000000000011': array([ 98,  32, 144,  84]), '000000000012': array([211, 200, 256, 256]), '000000000013': array([217,   0, 241,  16]), '000000000021': array([187, 215, 225, 238]), '000000000025': array([  1, 241,  74, 256]), '000000000026': array([248, 205, 256, 227]), '000000000027': array([  0, 178, 218, 256]), '000000000028': array([245,  67, 256, 129]), '000000000029': array([ 93, 232, 147, 256]), '000000000030': array([  0, 126,  28, 215]), '000000000031': array([  0, 200,  11, 204]), '000000000032': array([183, 104, 232, 204]), '000000000034': array([  0,   1, 256, 256]), '000000000036': array([136,  29, 198, 104]), '000000000037': array([155, 193, 187, 239]), '000000000038': array([ 31, 201, 205, 256]), '000000000039': array([158, 235, 240, 256]), '000000000041': array([  0, 232,  18, 256]), '000000000043': array([  0, 205,  27, 245]), '000000000045': array([  0, 201,  52, 241]), '000000000046': array([ 79, 216, 149, 256]), '000000000047': array([  0, 159,  51, 256]), '000000000048': array([  0, 195, 139, 256]), '000000000049': array([ 23, 253, 106, 256]), '000000000050': array([  0, 221,  10, 256]), '000000000051': array([254,   0, 256,  40]), '000000000052': array([  0,   0, 256, 256]), '000000000054': array([ 12, 218,  42, 244])}\n"
          ]
        }
      ]
    },
    {
      "cell_type": "markdown",
      "source": [
        "We extract the ground truth segmentation masks"
      ],
      "metadata": {
        "id": "zsv0IGBDyMkS"
      }
    },
    {
      "cell_type": "code",
      "source": [
        "ground_truth_masks = {}\n",
        "for k in bbox_coords.keys():\n",
        "  gt_grayscale = cv2.imread(f'datasetPng/ground-truth-pixel/ground-truth-pixel/{k}.png', cv2.IMREAD_GRAYSCALE)\n",
        "  print(k)\n",
        "  print(gt_grayscale)\n",
        "  ground_truth_masks[k] = (gt_grayscale == 0)"
      ],
      "metadata": {
        "id": "lz7B4NDoJRxJ",
        "colab": {
          "base_uri": "https://localhost:8080/"
        },
        "outputId": "556210fc-1c85-4580-899b-aee2fe1ea713"
      },
      "execution_count": 10,
      "outputs": [
        {
          "output_type": "stream",
          "name": "stdout",
          "text": [
            "000000000000\n",
            "[[255 255 255 ... 255 255 255]\n",
            " [255 255 255 ... 255 255 255]\n",
            " [255 255 255 ... 255 255 255]\n",
            " ...\n",
            " [255 255 255 ... 255 255 255]\n",
            " [255 255 255 ... 255 255 255]\n",
            " [255 255 255 ... 255 255 255]]\n",
            "000000000001\n",
            "[[255 255 255 ... 255 255 255]\n",
            " [255 255 255 ... 255 255 255]\n",
            " [255 255 255 ... 255 255 255]\n",
            " ...\n",
            " [255 255 255 ... 255 255 255]\n",
            " [255 255 255 ... 255 255 255]\n",
            " [255 255 255 ... 255 255 255]]\n",
            "000000000003\n",
            "[[255 255 255 ... 255 255 255]\n",
            " [255 255 255 ... 255 255 255]\n",
            " [255 255 255 ... 255 255 255]\n",
            " ...\n",
            " [  0   0   0 ... 255 255 255]\n",
            " [  0   0   0 ... 255 255 255]\n",
            " [  0   0   0 ... 255 255 255]]\n",
            "000000000004\n",
            "[[255 255 255 ... 255 255 255]\n",
            " [255 255 255 ... 255 255 255]\n",
            " [255 255 255 ... 255 255 255]\n",
            " ...\n",
            " [255 255 255 ... 255 255 255]\n",
            " [255 255 255 ... 255 255 255]\n",
            " [255 255 255 ... 255 255 255]]\n",
            "000000000005\n",
            "[[  0   0   0 ... 255 255 255]\n",
            " [  0   0   0 ... 255 255 255]\n",
            " [255 255 255 ... 255 255 255]\n",
            " ...\n",
            " [  0   0   0 ... 255 255 255]\n",
            " [  0   0   0 ... 255 255 255]\n",
            " [  0   0   0 ... 255 255 255]]\n",
            "000000000006\n",
            "[[255 255 255 ... 255 255 255]\n",
            " [255 255 255 ... 255 255 255]\n",
            " [255 255 255 ... 255 255 255]\n",
            " ...\n",
            " [255 255 255 ... 255 255 255]\n",
            " [255 255 255 ... 255 255 255]\n",
            " [255 255 255 ... 255 255 255]]\n",
            "000000000007\n",
            "[[  0   0   0 ... 255 255 255]\n",
            " [  0   0   0 ... 255 255 255]\n",
            " [  0   0   0 ... 255 255 255]\n",
            " ...\n",
            " [  0   0   0 ...   0   0   0]\n",
            " [  0   0   0 ...   0   0   0]\n",
            " [  0   0   0 ...   0   0   0]]\n",
            "000000000008\n",
            "[[255 255 255 ... 255 255 255]\n",
            " [255 255 255 ... 255 255 255]\n",
            " [255 255 255 ... 255 255 255]\n",
            " ...\n",
            " [  0   0   0 ...   0   0   0]\n",
            " [  0   0   0 ...   0   0   0]\n",
            " [  0   0   0 ...   0   0   0]]\n",
            "000000000010\n",
            "[[  0   0   0 ...   0   0   0]\n",
            " [  0   0   0 ...   0   0   0]\n",
            " [  0   0   0 ...   0   0   0]\n",
            " ...\n",
            " [255 255 255 ...   0   0   0]\n",
            " [255 255 255 ...   0   0   0]\n",
            " [255 255 255 ...   0   0   0]]\n",
            "000000000011\n",
            "[[255 255 255 ... 255 255 255]\n",
            " [255 255 255 ... 255 255 255]\n",
            " [255 255 255 ... 255 255 255]\n",
            " ...\n",
            " [255 255 255 ...   0   0   0]\n",
            " [255 255 255 ...   0   0   0]\n",
            " [255 255 255 ...   0   0   0]]\n",
            "000000000012\n",
            "[[255 255 255 ...   0   0   0]\n",
            " [255 255 255 ...   0   0   0]\n",
            " [255 255 255 ...   0   0   0]\n",
            " ...\n",
            " [  0   0   0 ...   0   0   0]\n",
            " [  0   0   0 ...   0   0   0]\n",
            " [  0   0   0 ...   0   0   0]]\n",
            "000000000013\n",
            "[[255 255 255 ...   0   0   0]\n",
            " [255 255 255 ...   0   0   0]\n",
            " [255 255 255 ...   0   0   0]\n",
            " ...\n",
            " [255 255 255 ... 255 255 255]\n",
            " [255 255 255 ... 255 255 255]\n",
            " [255 255 255 ... 255 255 255]]\n",
            "000000000021\n",
            "[[255 255 255 ... 255 255 255]\n",
            " [255 255 255 ... 255 255 255]\n",
            " [255 255 255 ... 255 255 255]\n",
            " ...\n",
            " [255 255 255 ... 255 255 255]\n",
            " [255 255 255 ... 255 255 255]\n",
            " [255 255 255 ... 255 255 255]]\n",
            "000000000025\n",
            "[[255 255 255 ... 255 255 255]\n",
            " [255 255 255 ... 255 255 255]\n",
            " [255 255 255 ... 255 255 255]\n",
            " ...\n",
            " [255 255 255 ...   0   0   0]\n",
            " [255 255 255 ...   0   0   0]\n",
            " [255 255   0 ...   0   0   0]]\n",
            "000000000026\n",
            "[[255 255 255 ... 255 255 255]\n",
            " [255 255 255 ... 255 255 255]\n",
            " [255 255 255 ... 255 255   0]\n",
            " ...\n",
            " [  0   0   0 ...   0   0   0]\n",
            " [  0   0   0 ...   0   0   0]\n",
            " [  0   0   0 ...   0   0   0]]\n",
            "000000000027\n",
            "[[255   0   0 ...   0   0   0]\n",
            " [  0   0   0 ...   0   0   0]\n",
            " [  0   0   0 ...   0   0   0]\n",
            " ...\n",
            " [  0   0   0 ...   0   0   0]\n",
            " [  0   0   0 ...   0   0   0]\n",
            " [  0   0   0 ...   0   0   0]]\n",
            "000000000028\n",
            "[[0 0 0 ... 0 0 0]\n",
            " [0 0 0 ... 0 0 0]\n",
            " [0 0 0 ... 0 0 0]\n",
            " ...\n",
            " [0 0 0 ... 0 0 0]\n",
            " [0 0 0 ... 0 0 0]\n",
            " [0 0 0 ... 0 0 0]]\n",
            "000000000029\n",
            "[[0 0 0 ... 0 0 0]\n",
            " [0 0 0 ... 0 0 0]\n",
            " [0 0 0 ... 0 0 0]\n",
            " ...\n",
            " [0 0 0 ... 0 0 0]\n",
            " [0 0 0 ... 0 0 0]\n",
            " [0 0 0 ... 0 0 0]]\n",
            "000000000030\n",
            "[[0 0 0 ... 0 0 0]\n",
            " [0 0 0 ... 0 0 0]\n",
            " [0 0 0 ... 0 0 0]\n",
            " ...\n",
            " [0 0 0 ... 0 0 0]\n",
            " [0 0 0 ... 0 0 0]\n",
            " [0 0 0 ... 0 0 0]]\n",
            "000000000031\n",
            "[[  0 255   0 ...   0   0   0]\n",
            " [  0   0   0 ...   0   0   0]\n",
            " [  0   0   0 ...   0   0   0]\n",
            " ...\n",
            " [  0   0   0 ...   0 255 255]\n",
            " [  0   0   0 ... 255 255 255]\n",
            " [  0   0   0 ... 255 255 255]]\n",
            "000000000032\n",
            "[[  0   0   0 ...   0   0   0]\n",
            " [  0   0   0 ...   0   0   0]\n",
            " [  0   0   0 ...   0   0   0]\n",
            " ...\n",
            " [255 255 255 ... 255 255 255]\n",
            " [255 255 255 ... 255 255 255]\n",
            " [255 255 255 ... 255 255 255]]\n",
            "000000000034\n",
            "None\n",
            "000000000036\n",
            "[[255 255 255 ... 255 255 255]\n",
            " [255 255 255 ... 255 255 255]\n",
            " [255 255 255 ... 255 255 255]\n",
            " ...\n",
            " [255 255 255 ... 255 255 255]\n",
            " [255 255 255 ... 255 255 255]\n",
            " [255 255 255 ... 255 255 255]]\n",
            "000000000037\n",
            "[[255 255 255 ... 255 255 255]\n",
            " [255 255 255 ... 255 255 255]\n",
            " [255 255 255 ... 255 255 255]\n",
            " ...\n",
            " [255 255 255 ... 255 255 255]\n",
            " [255 255 255 ... 255 255 255]\n",
            " [255 255 255 ... 255 255 255]]\n",
            "000000000038\n",
            "[[255 255 255 ... 255 255 255]\n",
            " [255 255 255 ... 255 255 255]\n",
            " [255 255 255 ... 255 255 255]\n",
            " ...\n",
            " [  0   0   0 ...   0   0   0]\n",
            " [  0   0   0 ...   0   0   0]\n",
            " [  0   0   0 ...   0   0   0]]\n",
            "000000000039\n",
            "[[255 255 255 ... 255 255 255]\n",
            " [255 255 255 ... 255 255 255]\n",
            " [255 255 255 ... 255 255 255]\n",
            " ...\n",
            " [  0   0   0 ...   0   0   0]\n",
            " [  0   0   0 ...   0   0   0]\n",
            " [  0   0   0 ...   0   0   0]]\n",
            "000000000041\n",
            "[[  0   0   0 ...   0   0   0]\n",
            " [  0   0   0 ... 255   0   0]\n",
            " [  0   0   0 ... 255 255 255]\n",
            " ...\n",
            " [255 255 255 ... 255 255 255]\n",
            " [255 255 255 ... 255 255 255]\n",
            " [255 255 255 ... 255 255 255]]\n",
            "000000000043\n",
            "[[255 255 255 ... 255 255 255]\n",
            " [255 255 255 ... 255 255 255]\n",
            " [255 255 255 ... 255 255 255]\n",
            " ...\n",
            " [  0   0   0 ...   0   0   0]\n",
            " [  0   0   0 ...   0   0   0]\n",
            " [  0   0   0 ...   0   0   0]]\n",
            "000000000045\n",
            "[[0 0 0 ... 0 0 0]\n",
            " [0 0 0 ... 0 0 0]\n",
            " [0 0 0 ... 0 0 0]\n",
            " ...\n",
            " [0 0 0 ... 0 0 0]\n",
            " [0 0 0 ... 0 0 0]\n",
            " [0 0 0 ... 0 0 0]]\n",
            "000000000046\n",
            "[[  0   0   0 ... 255 255 255]\n",
            " [  0   0   0 ... 255 255 255]\n",
            " [  0   0   0 ... 255 255 255]\n",
            " ...\n",
            " [  0   0   0 ... 255 255 255]\n",
            " [  0   0   0 ... 255 255 255]\n",
            " [  0   0   0 ... 255 255 255]]\n",
            "000000000047\n",
            "[[  0   0   0 ...   0   0   0]\n",
            " [  0   0   0 ...   0   0   0]\n",
            " [  0   0   0 ...   0   0   0]\n",
            " ...\n",
            " [  0   0   0 ... 255 255 255]\n",
            " [  0   0   0 ... 255 255 255]\n",
            " [  0   0   0 ... 255 255 255]]\n",
            "000000000048\n",
            "[[  0   0   0 ... 255 255 255]\n",
            " [  0   0   0 ... 255 255 255]\n",
            " [  0   0   0 ... 255 255 255]\n",
            " ...\n",
            " [255 255 255 ... 255 255 255]\n",
            " [255 255 255 ... 255 255 255]\n",
            " [255 255 255 ... 255 255 255]]\n",
            "000000000049\n",
            "[[  0   0   0 ... 255 255 255]\n",
            " [  0   0   0 ... 255 255 255]\n",
            " [  0   0   0 ... 255 255 255]\n",
            " ...\n",
            " [255 255 255 ... 255 255 255]\n",
            " [255 255 255 ... 255 255 255]\n",
            " [255 255 255 ... 255 255 255]]\n",
            "000000000050\n",
            "[[255 255 255 ... 255 255 255]\n",
            " [255 255 255 ... 255 255 255]\n",
            " [255 255 255 ... 255 255 255]\n",
            " ...\n",
            " [255 255 255 ...   0   0   0]\n",
            " [255 255 255 ...   0   0   0]\n",
            " [255 255 255 ...   0   0   0]]\n",
            "000000000051\n",
            "[[255 255 255 ... 255 255 255]\n",
            " [255 255 255 ... 255 255 255]\n",
            " [255 255 255 ... 255 255 255]\n",
            " ...\n",
            " [255 255 255 ... 255 255 255]\n",
            " [255 255 255 ... 255 255 255]\n",
            " [255 255 255 ... 255 255 255]]\n",
            "000000000052\n",
            "[[255 255 255 ...   0   0   0]\n",
            " [255 255 255 ...   0   0   0]\n",
            " [255 255 255 ...   0   0   0]\n",
            " ...\n",
            " [255 255 255 ... 255 255 255]\n",
            " [255 255 255 ... 255 255 255]\n",
            " [255 255 255 ... 255 255 255]]\n",
            "000000000054\n",
            "[[255 255 255 ... 255 255 255]\n",
            " [255 255 255 ... 255 255 255]\n",
            " [255 255 255 ... 255 255 255]\n",
            " ...\n",
            " [255 255 255 ... 255 255 255]\n",
            " [255 255 255 ... 255 255 255]\n",
            " [255 255 255 ... 255 255 255]]\n"
          ]
        }
      ]
    },
    {
      "cell_type": "markdown",
      "source": [
        "## Take a look at the images, the bounding box prompts and the ground truth segmentation masks"
      ],
      "metadata": {
        "id": "FsX7SxD8KYOP"
      }
    },
    {
      "cell_type": "code",
      "source": [
        "# Helper functions provided in https://github.com/facebookresearch/segment-anything/blob/9e8f1309c94f1128a6e5c047a10fdcb02fc8d651/notebooks/predictor_example.ipynb\n",
        "def show_mask(mask, ax, random_color=False):\n",
        "    if random_color:\n",
        "        color = np.concatenate([np.random.random(3), np.array([0.6])], axis=0)\n",
        "    else:\n",
        "        color = np.array([30/255, 144/255, 255/255, 0.6])\n",
        "    h, w = mask.shape[-2:]\n",
        "    mask_image = mask.reshape(h, w, 1) * color.reshape(1, 1, -1)\n",
        "    ax.imshow(mask_image)\n"
      ],
      "metadata": {
        "id": "Bz8C8QaxoT6N"
      },
      "execution_count": 8,
      "outputs": []
    },
    {
      "cell_type": "markdown",
      "source": [
        "We can see here that the ground truth mask is extremely tight which will be good for calculating an accurate loss.\n",
        "The bounding box overlaid will be a good prompt."
      ],
      "metadata": {
        "id": "ncVrlh5fyed9"
      }
    },
    {
      "cell_type": "code",
      "source": [
        "name = '000000000052'\n",
        "image = cv2.imread(f'datasetPng/scans/scans/{name}.png')\n",
        "plt.figure(figsize=(10,10))\n",
        "plt.imshow(image)\n",
        "show_mask(ground_truth_masks[name], plt.gca())\n",
        "plt.axis('off')\n",
        "plt.show()\n"
      ],
      "metadata": {
        "id": "3csOAxFju_Pi",
        "colab": {
          "base_uri": "https://localhost:8080/",
          "height": 807
        },
        "outputId": "49e5d945-4e92-42c8-ce3c-0db280910000"
      },
      "execution_count": 59,
      "outputs": [
        {
          "output_type": "display_data",
          "data": {
            "text/plain": [
              "<Figure size 1000x1000 with 1 Axes>"
            ],
            "image/png": "[encoded data removed]"
          },
          "metadata": {}
        }
      ]
    },
    {
      "cell_type": "markdown",
      "source": [
        "## Prepare Fine Tuning"
      ],
      "metadata": {
        "id": "IJIFDGaUKfQp"
      }
    },
    {
      "cell_type": "code",
      "source": [
        "model_type = 'vit_b'\n",
        "checkpoint = 'sam_vit_b_01ec64.pth'\n",
        "device = 'cuda:0'"
      ],
      "metadata": {
        "id": "OdTD9CTxKena"
      },
      "execution_count": 16,
      "outputs": []
    },
    {
      "cell_type": "code",
      "source": [
        "from segment_anything import SamPredictor, sam_model_registry\n",
        "sam_model = sam_model_registry[model_type](checkpoint=checkpoint)\n",
        "sam_model.to(device)\n",
        "sam_model.train();"
      ],
      "metadata": {
        "id": "HjTIJtLxP8ZG"
      },
      "execution_count": 17,
      "outputs": []
    },
    {
      "cell_type": "markdown",
      "source": [
        "We convert the input images into a format SAM's internal functions expect."
      ],
      "metadata": {
        "id": "Bu0MdejGylZY"
      }
    },
    {
      "cell_type": "code",
      "source": [
        "# Preprocess the images\n",
        "from collections import defaultdict\n",
        "import os\n",
        "import torch\n",
        "\n",
        "from segment_anything.utils.transforms import ResizeLongestSide\n",
        "\n",
        "transformed_data = defaultdict(dict)\n",
        "for k in bbox_coords.keys():\n",
        "  print(k)\n",
        "  image_path = f'datasetPng/scans/scans/{k}.png'\n",
        "\n",
        "  if not os.path.exists(image_path):\n",
        "    print(f\"Image not found: {image_path}\")\n",
        "    continue\n",
        "\n",
        "  image = cv2.imread(image_path)\n",
        "  if image is None:\n",
        "    print(f\"Empty file: {image_path}\")\n",
        "    continue\n",
        "\n",
        "  image = cv2.cvtColor(image, cv2.COLOR_BGR2RGB)\n",
        "  transform = ResizeLongestSide(sam_model.image_encoder.img_size)\n",
        "  input_image = transform.apply_image(image)\n",
        "  input_image_torch = torch.as_tensor(input_image, device=device)\n",
        "  transformed_image = input_image_torch.permute(2, 0, 1).contiguous()[None, :, :, :]\n",
        "\n",
        "  input_image = sam_model.preprocess(transformed_image)\n",
        "  original_image_size = image.shape[:2]\n",
        "  input_size = tuple(transformed_image.shape[-2:])\n",
        "\n",
        "  transformed_data[k]['image'] = input_image\n",
        "  transformed_data[k]['input_size'] = input_size\n",
        "  transformed_data[k]['original_image_size'] = original_image_size"
      ],
      "metadata": {
        "id": "jtPYpirbK3Wi",
        "colab": {
          "base_uri": "https://localhost:8080/"
        },
        "outputId": "fe710f46-07cb-41f0-9060-44fd4f22ff39"
      },
      "execution_count": 20,
      "outputs": [
        {
          "output_type": "stream",
          "name": "stdout",
          "text": [
            "000000000000\n",
            "000000000001\n",
            "000000000003\n",
            "000000000004\n",
            "000000000005\n",
            "000000000006\n",
            "000000000007\n",
            "000000000008\n",
            "000000000010\n",
            "000000000011\n",
            "000000000012\n",
            "000000000013\n",
            "000000000021\n",
            "000000000025\n",
            "000000000026\n",
            "000000000027\n",
            "000000000028\n",
            "000000000029\n",
            "000000000030\n",
            "000000000031\n",
            "000000000032\n",
            "000000000034\n",
            "Image not found: datasetPng/scans/scans/000000000034.png\n",
            "000000000036\n",
            "000000000037\n",
            "000000000038\n",
            "000000000039\n",
            "000000000041\n",
            "000000000043\n",
            "000000000045\n",
            "000000000046\n",
            "000000000047\n",
            "000000000048\n",
            "000000000049\n",
            "000000000050\n",
            "000000000051\n",
            "000000000052\n",
            "000000000054\n"
          ]
        }
      ]
    },
    {
      "cell_type": "code",
      "source": [
        "# Set up the optimizer, hyperparameter tuning will improve performance here\n",
        "lr = 0.5\n",
        "wd = 0.001\n",
        "optimizer = torch.optim.Adam(sam_model.mask_decoder.parameters(), lr=lr, weight_decay=wd)\n",
        "\n",
        "loss_fn = torch.nn.MSELoss()\n",
        "# loss_fn = torch.nn.BCELoss()\n",
        "keys = list(bbox_coords.keys())"
      ],
      "metadata": {
        "id": "QxnY6TMGKjdc"
      },
      "execution_count": 46,
      "outputs": []
    },
    {
      "cell_type": "markdown",
      "source": [
        "## Run fine tuning"
      ],
      "metadata": {
        "id": "sRHCNdzZy3dt"
      }
    },
    {
      "cell_type": "markdown",
      "source": [
        "This is the main training loop.\n",
        "\n",
        "Improvements to be made include batching and moving the computation of the image and prompt embeddings outside the loop since we are not tuning these parts of the model, this will speed up training as we should not recompute the embeddings during each epoch. Sometimes the optimizer gets lost in the parameter space and the loss function blows up. Restarting from scratch (including running all cells below 'Prepare Fine Tuning' in order to start with default weights again) will solve this.\n",
        "\n",
        "In a production implementation a better choice of optimiser/loss function will certainly help."
      ],
      "metadata": {
        "id": "9DIYcFKu14nr"
      }
    },
    {
      "cell_type": "code",
      "source": [
        "from statistics import mean\n",
        "\n",
        "from tqdm import tqdm\n",
        "from torch.nn.functional import threshold, normalize\n",
        "\n",
        "num_epochs = 20\n",
        "losses = []\n",
        "\n",
        "for epoch in range(num_epochs):\n",
        "  epoch_losses = []\n",
        "  # Just train on the first 20 examples\n",
        "  for k in keys[:20]:\n",
        "    input_image = transformed_data[k]['image'].to(device)\n",
        "    input_size = transformed_data[k]['input_size']\n",
        "    original_image_size = transformed_data[k]['original_image_size']\n",
        "\n",
        "    # No grad here as we don't want to optimise the encoders\n",
        "    with torch.no_grad():\n",
        "      image_embedding = sam_model.image_encoder(input_image)\n",
        "\n",
        "      prompt_box = bbox_coords[k]\n",
        "      box = transform.apply_boxes(prompt_box, original_image_size)\n",
        "      box_torch = torch.as_tensor(box, dtype=torch.float, device=device)\n",
        "      box_torch = box_torch[None, :]\n",
        "\n",
        "      sparse_embeddings, dense_embeddings = sam_model.prompt_encoder(\n",
        "          points=None,\n",
        "          boxes=box_torch,\n",
        "          masks=None,\n",
        "      )\n",
        "    low_res_masks, iou_predictions = sam_model.mask_decoder(\n",
        "      image_embeddings=image_embedding,\n",
        "      image_pe=sam_model.prompt_encoder.get_dense_pe(),\n",
        "      sparse_prompt_embeddings=sparse_embeddings,\n",
        "      dense_prompt_embeddings=dense_embeddings,\n",
        "      multimask_output=False,\n",
        "    )\n",
        "\n",
        "    upscaled_masks = sam_model.postprocess_masks(low_res_masks, input_size, original_image_size).to(device)\n",
        "    binary_mask = normalize(threshold(upscaled_masks, 0.0, 0))\n",
        "\n",
        "    gt_mask_resized = torch.from_numpy(np.resize(ground_truth_masks[k], (1, 1, ground_truth_masks[k].shape[0], ground_truth_masks[k].shape[1]))).to(device)\n",
        "    gt_binary_mask = torch.as_tensor(gt_mask_resized > 0, dtype=torch.float32)\n",
        "\n",
        "    loss = loss_fn(binary_mask, gt_binary_mask)\n",
        "    optimizer.zero_grad()\n",
        "    loss.backward()\n",
        "    optimizer.step()\n",
        "    epoch_losses.append(loss.item())\n",
        "  losses.append(epoch_losses)\n",
        "  print(f'EPOCH: {epoch}')\n",
        "  print(f'Mean loss: {mean(epoch_losses)}')"
      ],
      "metadata": {
        "colab": {
          "base_uri": "https://localhost:8080/"
        },
        "id": "WRQ6yd_PM_B9",
        "outputId": "621a54af-da20-45ec-ad84-59da4ef03d09"
      },
      "execution_count": 47,
      "outputs": [
        {
          "output_type": "stream",
          "name": "stdout",
          "text": [
            "EPOCH: 0\n",
            "Mean loss: 0.5665679931640625\n",
            "EPOCH: 1\n",
            "Mean loss: 0.5768905639648437\n",
            "EPOCH: 2\n",
            "Mean loss: 0.551055908203125\n",
            "EPOCH: 3\n",
            "Mean loss: 0.5798553466796875\n",
            "EPOCH: 4\n",
            "Mean loss: 0.5837631225585938\n",
            "EPOCH: 5\n",
            "Mean loss: 0.5744781494140625\n",
            "EPOCH: 6\n",
            "Mean loss: 0.5744781494140625\n",
            "EPOCH: 7\n",
            "Mean loss: 0.5837631225585938\n",
            "EPOCH: 8\n",
            "Mean loss: 0.5835693359375\n",
            "EPOCH: 9\n",
            "Mean loss: 0.5827713012695312\n",
            "EPOCH: 10\n",
            "Mean loss: 0.5662872314453125\n",
            "EPOCH: 11\n",
            "Mean loss: 0.5628189086914063\n",
            "EPOCH: 12\n",
            "Mean loss: 0.5362893134355545\n",
            "EPOCH: 13\n",
            "Mean loss: 0.5837631225585938\n",
            "EPOCH: 14\n",
            "Mean loss: 0.5837631225585938\n",
            "EPOCH: 15\n",
            "Mean loss: 0.47664337158203124\n",
            "EPOCH: 16\n",
            "Mean loss: 0.4634857177734375\n",
            "EPOCH: 17\n",
            "Mean loss: 0.5837631225585938\n",
            "EPOCH: 18\n",
            "Mean loss: 0.5837631225585938\n",
            "EPOCH: 19\n",
            "Mean loss: 0.5837631225585938\n"
          ]
        }
      ]
    },
    {
      "cell_type": "code",
      "source": [
        "mean_losses = [mean(x) for x in losses]\n",
        "mean_losses\n",
        "\n",
        "plt.plot(list(range(len(mean_losses))), mean_losses)\n",
        "plt.title('Mean epoch loss')\n",
        "plt.xlabel('Epoch Number')\n",
        "plt.ylabel('Loss')\n",
        "\n",
        "plt.show()"
      ],
      "metadata": {
        "colab": {
          "base_uri": "https://localhost:8080/",
          "height": 472
        },
        "id": "UKqIxUgAOTzp",
        "outputId": "8f56e60e-42e1-47c0-856b-1ab748d40f99"
      },
      "execution_count": 48,
      "outputs": [
        {
          "output_type": "display_data",
          "data": {
            "text/plain": [
              "<Figure size 640x480 with 1 Axes>"
            ],
            "image/png": "[encoded data removed]"
          },
          "metadata": {}
        }
      ]
    },
    {
      "cell_type": "markdown",
      "source": [
        "## We can compare our tuned model to the original model"
      ],
      "metadata": {
        "id": "TuDlIiRjmitT"
      }
    },
    {
      "cell_type": "code",
      "source": [
        "# Load up the model with default weights\n",
        "sam_model_orig = sam_model_registry[model_type](checkpoint=checkpoint)\n",
        "sam_model_orig.to(device);"
      ],
      "metadata": {
        "id": "J9fZiPoIKXYW"
      },
      "execution_count": 49,
      "outputs": []
    },
    {
      "cell_type": "code",
      "source": [
        "# Set up predictors for both tuned and original models\n",
        "from segment_anything import sam_model_registry, SamPredictor\n",
        "predictor_tuned = SamPredictor(sam_model)\n",
        "predictor_original = SamPredictor(sam_model_orig)"
      ],
      "metadata": {
        "id": "3dIKKKHOn_7R"
      },
      "execution_count": 50,
      "outputs": []
    },
    {
      "cell_type": "code",
      "source": [
        "# The model has not seen keys[21] (or keys[20]) since we only trained on keys[:20]\n",
        "k = keys[21]\n",
        "image_path = f'datasetPng/scans/scans/{k}.png'\n",
        "\n",
        "# Check if the image file exists and is not empty\n",
        "if os.path.isfile(image_path) and os.path.getsize(image_path) > 0:\n",
        "    image = cv2.imread(image_path)\n",
        "    image = cv2.cvtColor(image, cv2.COLOR_BGR2RGB)\n",
        "\n",
        "    predictor_tuned.set_image(image)\n",
        "    predictor_original.set_image(image)\n",
        "\n",
        "    input_bbox = np.array(bbox_coords[k])\n",
        "\n",
        "    masks_tuned, _, _ = predictor_tuned.predict(\n",
        "        point_coords=None,\n",
        "        box=input_bbox,\n",
        "        multimask_output=False,\n",
        "    )\n",
        "\n",
        "    masks_orig, _, _ = predictor_original.predict(\n",
        "        point_coords=None,\n",
        "        box=input_bbox,\n",
        "        multimask_output=False,\n",
        "    )\n",
        "else:\n",
        "    print(f\"Skipping file: {image_path} (file not found or empty)\")\n"
      ],
      "metadata": {
        "id": "nhNHx-6kpEWu",
        "colab": {
          "base_uri": "https://localhost:8080/"
        },
        "outputId": "735671ad-b8d7-4d72-e6aa-bd7b3f335799"
      },
      "execution_count": 53,
      "outputs": [
        {
          "output_type": "stream",
          "name": "stdout",
          "text": [
            "Skipping file: datasetPng/scans/scans/000000000034.png (file not found or empty)\n"
          ]
        }
      ]
    },
    {
      "cell_type": "markdown",
      "source": [
        "We can see here that the tuned model is starting to ignore the whitespace between the words, which is what the ground truths show. With further training, more data and further hyperparameter tuning we will be able to improve this result.\n",
        "\n",
        "If the image does not render due to size limitations, you can view it here https://drive.google.com/file/d/1ip5aryaxcp8JcEaZubL76oOM6srVzKsc/view?usp=sharing ."
      ],
      "metadata": {
        "id": "Df2oxBaxxXrt"
      }
    },
    {
      "cell_type": "code",
      "source": [
        "%matplotlib inline\n",
        "_, axs = plt.subplots(1, 2, figsize=(25, 25))\n",
        "\n",
        "print(axs[0])\n",
        "\n",
        "axs[0].imshow(image)\n",
        "show_mask(masks_tuned, axs[0])\n",
        "# show_box(input_bbox, axs[0])\n",
        "axs[0].set_title('Mask with Tuned Model', fontsize=26)\n",
        "axs[0].axis('off')\n",
        "\n",
        "\n",
        "axs[1].imshow(image)\n",
        "show_mask(masks_orig, axs[1])\n",
        "# show_box(input_bbox, axs[1])\n",
        "axs[1].set_title('Mask with Untuned Model', fontsize=26)\n",
        "axs[1].axis('off')\n",
        "\n",
        "plt.show()"
      ],
      "metadata": {
        "colab": {
          "base_uri": "https://localhost:8080/",
          "height": 1000
        },
        "id": "sH6NorejpTii",
        "outputId": "ceaa5e8c-3c5e-4b10-cf3f-f9c101474616"
      },
      "execution_count": 56,
      "outputs": [
        {
          "output_type": "stream",
          "name": "stdout",
          "text": [
            "Axes(0.125,0.11;0.352273x0.77)\n"
          ]
        },
        {
          "output_type": "error",
          "ename": "TypeError",
          "evalue": "ignored",
          "traceback": [
            "\u001b[0;31m---------------------------------------------------------------------------\u001b[0m",
            "\u001b[0;31mTypeError\u001b[0m                                 Traceback (most recent call last)",
            "\u001b[0;32m<ipython-input-56-bf80c290864c>\u001b[0m in \u001b[0;36m<cell line: 6>\u001b[0;34m()\u001b[0m\n\u001b[1;32m      4\u001b[0m \u001b[0mprint\u001b[0m\u001b[0;34m(\u001b[0m\u001b[0maxs\u001b[0m\u001b[0;34m[\u001b[0m\u001b[0;36m0\u001b[0m\u001b[0;34m]\u001b[0m\u001b[0;34m)\u001b[0m\u001b[0;34m\u001b[0m\u001b[0;34m\u001b[0m\u001b[0m\n\u001b[1;32m      5\u001b[0m \u001b[0;34m\u001b[0m\u001b[0m\n\u001b[0;32m----> 6\u001b[0;31m \u001b[0maxs\u001b[0m\u001b[0;34m[\u001b[0m\u001b[0;36m0\u001b[0m\u001b[0;34m]\u001b[0m\u001b[0;34m.\u001b[0m\u001b[0mimshow\u001b[0m\u001b[0;34m(\u001b[0m\u001b[0mimage\u001b[0m\u001b[0;34m)\u001b[0m\u001b[0;34m\u001b[0m\u001b[0;34m\u001b[0m\u001b[0m\n\u001b[0m\u001b[1;32m      7\u001b[0m \u001b[0mshow_mask\u001b[0m\u001b[0;34m(\u001b[0m\u001b[0mmasks_tuned\u001b[0m\u001b[0;34m,\u001b[0m \u001b[0maxs\u001b[0m\u001b[0;34m[\u001b[0m\u001b[0;36m0\u001b[0m\u001b[0;34m]\u001b[0m\u001b[0;34m)\u001b[0m\u001b[0;34m\u001b[0m\u001b[0;34m\u001b[0m\u001b[0m\n\u001b[1;32m      8\u001b[0m \u001b[0;31m# show_box(input_bbox, axs[0])\u001b[0m\u001b[0;34m\u001b[0m\u001b[0;34m\u001b[0m\u001b[0m\n",
            "\u001b[0;32m/usr/local/lib/python3.10/dist-packages/matplotlib/__init__.py\u001b[0m in \u001b[0;36minner\u001b[0;34m(ax, data, *args, **kwargs)\u001b[0m\n\u001b[1;32m   1440\u001b[0m     \u001b[0;32mdef\u001b[0m \u001b[0minner\u001b[0m\u001b[0;34m(\u001b[0m\u001b[0max\u001b[0m\u001b[0;34m,\u001b[0m \u001b[0;34m*\u001b[0m\u001b[0margs\u001b[0m\u001b[0;34m,\u001b[0m \u001b[0mdata\u001b[0m\u001b[0;34m=\u001b[0m\u001b[0;32mNone\u001b[0m\u001b[0;34m,\u001b[0m \u001b[0;34m**\u001b[0m\u001b[0mkwargs\u001b[0m\u001b[0;34m)\u001b[0m\u001b[0;34m:\u001b[0m\u001b[0;34m\u001b[0m\u001b[0;34m\u001b[0m\u001b[0m\n\u001b[1;32m   1441\u001b[0m         \u001b[0;32mif\u001b[0m \u001b[0mdata\u001b[0m \u001b[0;32mis\u001b[0m \u001b[0;32mNone\u001b[0m\u001b[0;34m:\u001b[0m\u001b[0;34m\u001b[0m\u001b[0;34m\u001b[0m\u001b[0m\n\u001b[0;32m-> 1442\u001b[0;31m             \u001b[0;32mreturn\u001b[0m \u001b[0mfunc\u001b[0m\u001b[0;34m(\u001b[0m\u001b[0max\u001b[0m\u001b[0;34m,\u001b[0m \u001b[0;34m*\u001b[0m\u001b[0mmap\u001b[0m\u001b[0;34m(\u001b[0m\u001b[0msanitize_sequence\u001b[0m\u001b[0;34m,\u001b[0m \u001b[0margs\u001b[0m\u001b[0;34m)\u001b[0m\u001b[0;34m,\u001b[0m \u001b[0;34m**\u001b[0m\u001b[0mkwargs\u001b[0m\u001b[0;34m)\u001b[0m\u001b[0;34m\u001b[0m\u001b[0;34m\u001b[0m\u001b[0m\n\u001b[0m\u001b[1;32m   1443\u001b[0m \u001b[0;34m\u001b[0m\u001b[0m\n\u001b[1;32m   1444\u001b[0m         \u001b[0mbound\u001b[0m \u001b[0;34m=\u001b[0m \u001b[0mnew_sig\u001b[0m\u001b[0;34m.\u001b[0m\u001b[0mbind\u001b[0m\u001b[0;34m(\u001b[0m\u001b[0max\u001b[0m\u001b[0;34m,\u001b[0m \u001b[0;34m*\u001b[0m\u001b[0margs\u001b[0m\u001b[0;34m,\u001b[0m \u001b[0;34m**\u001b[0m\u001b[0mkwargs\u001b[0m\u001b[0;34m)\u001b[0m\u001b[0;34m\u001b[0m\u001b[0;34m\u001b[0m\u001b[0m\n",
            "\u001b[0;32m/usr/local/lib/python3.10/dist-packages/matplotlib/axes/_axes.py\u001b[0m in \u001b[0;36mimshow\u001b[0;34m(self, X, cmap, norm, aspect, interpolation, alpha, vmin, vmax, origin, extent, interpolation_stage, filternorm, filterrad, resample, url, **kwargs)\u001b[0m\n\u001b[1;32m   5663\u001b[0m                               **kwargs)\n\u001b[1;32m   5664\u001b[0m \u001b[0;34m\u001b[0m\u001b[0m\n\u001b[0;32m-> 5665\u001b[0;31m         \u001b[0mim\u001b[0m\u001b[0;34m.\u001b[0m\u001b[0mset_data\u001b[0m\u001b[0;34m(\u001b[0m\u001b[0mX\u001b[0m\u001b[0;34m)\u001b[0m\u001b[0;34m\u001b[0m\u001b[0;34m\u001b[0m\u001b[0m\n\u001b[0m\u001b[1;32m   5666\u001b[0m         \u001b[0mim\u001b[0m\u001b[0;34m.\u001b[0m\u001b[0mset_alpha\u001b[0m\u001b[0;34m(\u001b[0m\u001b[0malpha\u001b[0m\u001b[0;34m)\u001b[0m\u001b[0;34m\u001b[0m\u001b[0;34m\u001b[0m\u001b[0m\n\u001b[1;32m   5667\u001b[0m         \u001b[0;32mif\u001b[0m \u001b[0mim\u001b[0m\u001b[0;34m.\u001b[0m\u001b[0mget_clip_path\u001b[0m\u001b[0;34m(\u001b[0m\u001b[0;34m)\u001b[0m \u001b[0;32mis\u001b[0m \u001b[0;32mNone\u001b[0m\u001b[0;34m:\u001b[0m\u001b[0;34m\u001b[0m\u001b[0;34m\u001b[0m\u001b[0m\n",
            "\u001b[0;32m/usr/local/lib/python3.10/dist-packages/matplotlib/image.py\u001b[0m in \u001b[0;36mset_data\u001b[0;34m(self, A)\u001b[0m\n\u001b[1;32m    699\u001b[0m         if (self._A.dtype != np.uint8 and\n\u001b[1;32m    700\u001b[0m                 not np.can_cast(self._A.dtype, float, \"same_kind\")):\n\u001b[0;32m--> 701\u001b[0;31m             raise TypeError(\"Image data of dtype {} cannot be converted to \"\n\u001b[0m\u001b[1;32m    702\u001b[0m                             \"float\".format(self._A.dtype))\n\u001b[1;32m    703\u001b[0m \u001b[0;34m\u001b[0m\u001b[0m\n",
            "\u001b[0;31mTypeError\u001b[0m: Image data of dtype object cannot be converted to float"
          ]
        },
        {
          "output_type": "display_data",
          "data": {
            "text/plain": [
              "<Figure size 2500x2500 with 2 Axes>"
            ],
            "image/png": "[encoded data removed]"
          },
          "metadata": {}
        }
      ]
    }
  ]
}